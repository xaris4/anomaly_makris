{
  "nbformat": 4,
  "nbformat_minor": 0,
  "metadata": {
    "colab": {
      "provenance": [],
      "include_colab_link": true
    },
    "kernelspec": {
      "name": "python3",
      "display_name": "Python 3"
    },
    "widgets": {
      "application/vnd.jupyter.widget-state+json": {
        "76a7f2d28ea146e5b9348d0fd3c7444e": {
          "model_module": "@jupyter-widgets/controls",
          "model_name": "VBoxModel",
          "model_module_version": "1.5.0",
          "state": {
            "_dom_classes": [
              "widget-interact"
            ],
            "_model_module": "@jupyter-widgets/controls",
            "_model_module_version": "1.5.0",
            "_model_name": "VBoxModel",
            "_view_count": null,
            "_view_module": "@jupyter-widgets/controls",
            "_view_module_version": "1.5.0",
            "_view_name": "VBoxView",
            "box_style": "",
            "children": [
              "IPY_MODEL_470c5a23283e4128aa14adb6152d7cf1",
              "IPY_MODEL_d74cf4bb8cf74a75985cf7a8296919c2"
            ],
            "layout": "IPY_MODEL_6016003aa05e40c6b8e54fd23348aff7"
          }
        },
        "470c5a23283e4128aa14adb6152d7cf1": {
          "model_module": "@jupyter-widgets/controls",
          "model_name": "ToggleButtonsModel",
          "model_module_version": "1.5.0",
          "state": {
            "_dom_classes": [],
            "_model_module": "@jupyter-widgets/controls",
            "_model_module_version": "1.5.0",
            "_model_name": "ToggleButtonsModel",
            "_options_labels": [
              "Pipeline Plot",
              "Hyperparameters",
              "AUC",
              "Confusion Matrix",
              "Threshold",
              "Precision Recall",
              "Prediction Error",
              "Class Report",
              "Feature Selection",
              "Learning Curve",
              "Manifold Learning",
              "Calibration Curve",
              "Validation Curve",
              "Dimensions",
              "Feature Importance",
              "Feature Importance (All)",
              "Decision Boundary",
              "Lift Chart",
              "Gain Chart",
              "Decision Tree",
              "KS Statistic Plot"
            ],
            "_view_count": null,
            "_view_module": "@jupyter-widgets/controls",
            "_view_module_version": "1.5.0",
            "_view_name": "ToggleButtonsView",
            "button_style": "",
            "description": "Plot Type:",
            "description_tooltip": null,
            "disabled": false,
            "icons": [
              ""
            ],
            "index": 0,
            "layout": "IPY_MODEL_25b11b1f50fe4bf5b37cd2e5008b2d93",
            "style": "IPY_MODEL_925a1c1409584676825bf016b4d194bb",
            "tooltips": []
          }
        },
        "d74cf4bb8cf74a75985cf7a8296919c2": {
          "model_module": "@jupyter-widgets/output",
          "model_name": "OutputModel",
          "model_module_version": "1.0.0",
          "state": {
            "_dom_classes": [],
            "_model_module": "@jupyter-widgets/output",
            "_model_module_version": "1.0.0",
            "_model_name": "OutputModel",
            "_view_count": null,
            "_view_module": "@jupyter-widgets/output",
            "_view_module_version": "1.0.0",
            "_view_name": "OutputView",
            "layout": "IPY_MODEL_e6a4109c1dd246bdbbf4f4f1c3616147",
            "msg_id": "",
            "outputs": [
              {
                "output_type": "display_data",
                "data": {
                  "text/plain": "<Figure size 2200x600 with 1 Axes>",
                  "image/png": "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\n"
                },
                "metadata": {}
              }
            ]
          }
        },
        "6016003aa05e40c6b8e54fd23348aff7": {
          "model_module": "@jupyter-widgets/base",
          "model_name": "LayoutModel",
          "model_module_version": "1.2.0",
          "state": {
            "_model_module": "@jupyter-widgets/base",
            "_model_module_version": "1.2.0",
            "_model_name": "LayoutModel",
            "_view_count": null,
            "_view_module": "@jupyter-widgets/base",
            "_view_module_version": "1.2.0",
            "_view_name": "LayoutView",
            "align_content": null,
            "align_items": null,
            "align_self": null,
            "border": null,
            "bottom": null,
            "display": null,
            "flex": null,
            "flex_flow": null,
            "grid_area": null,
            "grid_auto_columns": null,
            "grid_auto_flow": null,
            "grid_auto_rows": null,
            "grid_column": null,
            "grid_gap": null,
            "grid_row": null,
            "grid_template_areas": null,
            "grid_template_columns": null,
            "grid_template_rows": null,
            "height": null,
            "justify_content": null,
            "justify_items": null,
            "left": null,
            "margin": null,
            "max_height": null,
            "max_width": null,
            "min_height": null,
            "min_width": null,
            "object_fit": null,
            "object_position": null,
            "order": null,
            "overflow": null,
            "overflow_x": null,
            "overflow_y": null,
            "padding": null,
            "right": null,
            "top": null,
            "visibility": null,
            "width": null
          }
        },
        "25b11b1f50fe4bf5b37cd2e5008b2d93": {
          "model_module": "@jupyter-widgets/base",
          "model_name": "LayoutModel",
          "model_module_version": "1.2.0",
          "state": {
            "_model_module": "@jupyter-widgets/base",
            "_model_module_version": "1.2.0",
            "_model_name": "LayoutModel",
            "_view_count": null,
            "_view_module": "@jupyter-widgets/base",
            "_view_module_version": "1.2.0",
            "_view_name": "LayoutView",
            "align_content": null,
            "align_items": null,
            "align_self": null,
            "border": null,
            "bottom": null,
            "display": null,
            "flex": null,
            "flex_flow": null,
            "grid_area": null,
            "grid_auto_columns": null,
            "grid_auto_flow": null,
            "grid_auto_rows": null,
            "grid_column": null,
            "grid_gap": null,
            "grid_row": null,
            "grid_template_areas": null,
            "grid_template_columns": null,
            "grid_template_rows": null,
            "height": null,
            "justify_content": null,
            "justify_items": null,
            "left": null,
            "margin": null,
            "max_height": null,
            "max_width": null,
            "min_height": null,
            "min_width": null,
            "object_fit": null,
            "object_position": null,
            "order": null,
            "overflow": null,
            "overflow_x": null,
            "overflow_y": null,
            "padding": null,
            "right": null,
            "top": null,
            "visibility": null,
            "width": null
          }
        },
        "925a1c1409584676825bf016b4d194bb": {
          "model_module": "@jupyter-widgets/controls",
          "model_name": "ToggleButtonsStyleModel",
          "model_module_version": "1.5.0",
          "state": {
            "_model_module": "@jupyter-widgets/controls",
            "_model_module_version": "1.5.0",
            "_model_name": "ToggleButtonsStyleModel",
            "_view_count": null,
            "_view_module": "@jupyter-widgets/base",
            "_view_module_version": "1.2.0",
            "_view_name": "StyleView",
            "button_width": "",
            "description_width": "",
            "font_weight": ""
          }
        },
        "e6a4109c1dd246bdbbf4f4f1c3616147": {
          "model_module": "@jupyter-widgets/base",
          "model_name": "LayoutModel",
          "model_module_version": "1.2.0",
          "state": {
            "_model_module": "@jupyter-widgets/base",
            "_model_module_version": "1.2.0",
            "_model_name": "LayoutModel",
            "_view_count": null,
            "_view_module": "@jupyter-widgets/base",
            "_view_module_version": "1.2.0",
            "_view_name": "LayoutView",
            "align_content": null,
            "align_items": null,
            "align_self": null,
            "border": null,
            "bottom": null,
            "display": null,
            "flex": null,
            "flex_flow": null,
            "grid_area": null,
            "grid_auto_columns": null,
            "grid_auto_flow": null,
            "grid_auto_rows": null,
            "grid_column": null,
            "grid_gap": null,
            "grid_row": null,
            "grid_template_areas": null,
            "grid_template_columns": null,
            "grid_template_rows": null,
            "height": null,
            "justify_content": null,
            "justify_items": null,
            "left": null,
            "margin": null,
            "max_height": null,
            "max_width": null,
            "min_height": null,
            "min_width": null,
            "object_fit": null,
            "object_position": null,
            "order": null,
            "overflow": null,
            "overflow_x": null,
            "overflow_y": null,
            "padding": null,
            "right": null,
            "top": null,
            "visibility": null,
            "width": null
          }
        }
      }
    }
  },
  "cells": [
    {
      "cell_type": "markdown",
      "metadata": {
        "id": "view-in-github",
        "colab_type": "text"
      },
      "source": [
        "<a href=\"https://colab.research.google.com/github/xaris4/anomaly_makris/blob/main/DGA_Classification_makris.ipynb\" target=\"_parent\"><img src=\"https://colab.research.google.com/assets/colab-badge.svg\" alt=\"Open In Colab\"/></a>"
      ]
    },
    {
      "cell_type": "code",
      "metadata": {
        "id": "2rvGqQdY9C6s",
        "outputId": "9077c153-a153-4090-84e0-69802b3ebcf7",
        "colab": {
          "base_uri": "https://localhost:8080/"
        }
      },
      "source": [
        "#εγκατάσταση πακέτου pycaret (https://pycaret.org/)\n",
        "!pip install pycaret\n",
        "#***ΠΡΟΣΟΧΗ*** μετά την εγκατάσταση χρειάζεται restart το session\n",
        "#***θα σας ζητηθεί επανεκκίνηση με σχετικό κόκκινο μήνυμα μετά την ολοκλήρωση της εγκατάστασης\n",
        "#***Πατήστε το κουμπί RESTART SESSION στο σχετικό μήνυμα"
      ],
      "execution_count": 1,
      "outputs": [
        {
          "output_type": "stream",
          "name": "stdout",
          "text": [
            "Collecting pycaret\n",
            "  Downloading pycaret-3.3.0-py3-none-any.whl (485 kB)\n",
            "\u001b[2K     \u001b[90m━━━━━━━━━━━━━━━━━━━━━━━━━━━━━━━━━━━━━━━━\u001b[0m \u001b[32m485.9/485.9 kB\u001b[0m \u001b[31m5.7 MB/s\u001b[0m eta \u001b[36m0:00:00\u001b[0m\n",
            "\u001b[?25hRequirement already satisfied: ipython>=5.5.0 in /usr/local/lib/python3.10/dist-packages (from pycaret) (7.34.0)\n",
            "Requirement already satisfied: ipywidgets>=7.6.5 in /usr/local/lib/python3.10/dist-packages (from pycaret) (7.7.1)\n",
            "Requirement already satisfied: tqdm>=4.62.0 in /usr/local/lib/python3.10/dist-packages (from pycaret) (4.66.2)\n",
            "Requirement already satisfied: numpy<1.27,>=1.21 in /usr/local/lib/python3.10/dist-packages (from pycaret) (1.25.2)\n",
            "Requirement already satisfied: pandas<2.2.0 in /usr/local/lib/python3.10/dist-packages (from pycaret) (2.0.3)\n",
            "Requirement already satisfied: jinja2>=3 in /usr/local/lib/python3.10/dist-packages (from pycaret) (3.1.3)\n",
            "Requirement already satisfied: scipy<=1.11.4,>=1.6.1 in /usr/local/lib/python3.10/dist-packages (from pycaret) (1.11.4)\n",
            "Requirement already satisfied: joblib>=1.2.0 in /usr/local/lib/python3.10/dist-packages (from pycaret) (1.3.2)\n",
            "Collecting scikit-learn>1.4.0 (from pycaret)\n",
            "  Downloading scikit_learn-1.4.1.post1-cp310-cp310-manylinux_2_17_x86_64.manylinux2014_x86_64.whl (12.1 MB)\n",
            "\u001b[2K     \u001b[90m━━━━━━━━━━━━━━━━━━━━━━━━━━━━━━━━━━━━━━━━\u001b[0m \u001b[32m12.1/12.1 MB\u001b[0m \u001b[31m21.3 MB/s\u001b[0m eta \u001b[36m0:00:00\u001b[0m\n",
            "\u001b[?25hCollecting pyod>=1.1.3 (from pycaret)\n",
            "  Downloading pyod-1.1.3.tar.gz (160 kB)\n",
            "\u001b[2K     \u001b[90m━━━━━━━━━━━━━━━━━━━━━━━━━━━━━━━━━━━━━━━━\u001b[0m \u001b[32m160.5/160.5 kB\u001b[0m \u001b[31m11.0 MB/s\u001b[0m eta \u001b[36m0:00:00\u001b[0m\n",
            "\u001b[?25h  Preparing metadata (setup.py) ... \u001b[?25l\u001b[?25hdone\n",
            "Collecting imbalanced-learn>=0.12.0 (from pycaret)\n",
            "  Downloading imbalanced_learn-0.12.2-py3-none-any.whl (257 kB)\n",
            "\u001b[2K     \u001b[90m━━━━━━━━━━━━━━━━━━━━━━━━━━━━━━━━━━━━━━━━\u001b[0m \u001b[32m258.0/258.0 kB\u001b[0m \u001b[31m17.5 MB/s\u001b[0m eta \u001b[36m0:00:00\u001b[0m\n",
            "\u001b[?25hCollecting category-encoders>=2.4.0 (from pycaret)\n",
            "  Downloading category_encoders-2.6.3-py2.py3-none-any.whl (81 kB)\n",
            "\u001b[2K     \u001b[90m━━━━━━━━━━━━━━━━━━━━━━━━━━━━━━━━━━━━━━━━\u001b[0m \u001b[32m81.9/81.9 kB\u001b[0m \u001b[31m6.6 MB/s\u001b[0m eta \u001b[36m0:00:00\u001b[0m\n",
            "\u001b[?25hRequirement already satisfied: lightgbm>=3.0.0 in /usr/local/lib/python3.10/dist-packages (from pycaret) (4.1.0)\n",
            "Requirement already satisfied: numba>=0.55.0 in /usr/local/lib/python3.10/dist-packages (from pycaret) (0.58.1)\n",
            "Requirement already satisfied: requests>=2.27.1 in /usr/local/lib/python3.10/dist-packages (from pycaret) (2.31.0)\n",
            "Requirement already satisfied: psutil>=5.9.0 in /usr/local/lib/python3.10/dist-packages (from pycaret) (5.9.5)\n",
            "Requirement already satisfied: markupsafe>=2.0.1 in /usr/local/lib/python3.10/dist-packages (from pycaret) (2.1.5)\n",
            "Requirement already satisfied: importlib-metadata>=4.12.0 in /usr/local/lib/python3.10/dist-packages (from pycaret) (7.1.0)\n",
            "Requirement already satisfied: nbformat>=4.2.0 in /usr/local/lib/python3.10/dist-packages (from pycaret) (5.10.3)\n",
            "Requirement already satisfied: cloudpickle in /usr/local/lib/python3.10/dist-packages (from pycaret) (2.2.1)\n",
            "Collecting deprecation>=2.1.0 (from pycaret)\n",
            "  Downloading deprecation-2.1.0-py2.py3-none-any.whl (11 kB)\n",
            "Collecting xxhash (from pycaret)\n",
            "  Downloading xxhash-3.4.1-cp310-cp310-manylinux_2_17_x86_64.manylinux2014_x86_64.whl (194 kB)\n",
            "\u001b[2K     \u001b[90m━━━━━━━━━━━━━━━━━━━━━━━━━━━━━━━━━━━━━━━━\u001b[0m \u001b[32m194.1/194.1 kB\u001b[0m \u001b[31m4.4 MB/s\u001b[0m eta \u001b[36m0:00:00\u001b[0m\n",
            "\u001b[?25hRequirement already satisfied: matplotlib<3.8.0 in /usr/local/lib/python3.10/dist-packages (from pycaret) (3.7.1)\n",
            "Collecting scikit-plot>=0.3.7 (from pycaret)\n",
            "  Downloading scikit_plot-0.3.7-py3-none-any.whl (33 kB)\n",
            "Requirement already satisfied: yellowbrick>=1.4 in /usr/local/lib/python3.10/dist-packages (from pycaret) (1.5)\n",
            "Requirement already satisfied: plotly>=5.14.0 in /usr/local/lib/python3.10/dist-packages (from pycaret) (5.15.0)\n",
            "Collecting kaleido>=0.2.1 (from pycaret)\n",
            "  Downloading kaleido-0.2.1-py2.py3-none-manylinux1_x86_64.whl (79.9 MB)\n",
            "\u001b[2K     \u001b[90m━━━━━━━━━━━━━━━━━━━━━━━━━━━━━━━━━━━━━━━━\u001b[0m \u001b[32m79.9/79.9 MB\u001b[0m \u001b[31m6.3 MB/s\u001b[0m eta \u001b[36m0:00:00\u001b[0m\n",
            "\u001b[?25hCollecting schemdraw==0.15 (from pycaret)\n",
            "  Downloading schemdraw-0.15-py3-none-any.whl (106 kB)\n",
            "\u001b[2K     \u001b[90m━━━━━━━━━━━━━━━━━━━━━━━━━━━━━━━━━━━━━━━━\u001b[0m \u001b[32m106.8/106.8 kB\u001b[0m \u001b[31m4.6 MB/s\u001b[0m eta \u001b[36m0:00:00\u001b[0m\n",
            "\u001b[?25hCollecting plotly-resampler>=0.8.3.1 (from pycaret)\n",
            "  Downloading plotly_resampler-0.10.0-py3-none-any.whl (80 kB)\n",
            "\u001b[2K     \u001b[90m━━━━━━━━━━━━━━━━━━━━━━━━━━━━━━━━━━━━━━━━\u001b[0m \u001b[32m80.7/80.7 kB\u001b[0m \u001b[31m1.8 MB/s\u001b[0m eta \u001b[36m0:00:00\u001b[0m\n",
            "\u001b[?25hRequirement already satisfied: statsmodels>=0.12.1 in /usr/local/lib/python3.10/dist-packages (from pycaret) (0.14.1)\n",
            "Collecting sktime>=0.26.0 (from pycaret)\n",
            "  Downloading sktime-0.28.0-py3-none-any.whl (21.9 MB)\n",
            "\u001b[2K     \u001b[90m━━━━━━━━━━━━━━━━━━━━━━━━━━━━━━━━━━━━━━━━\u001b[0m \u001b[32m21.9/21.9 MB\u001b[0m \u001b[31m13.5 MB/s\u001b[0m eta \u001b[36m0:00:00\u001b[0m\n",
            "\u001b[?25hCollecting tbats>=1.1.3 (from pycaret)\n",
            "  Downloading tbats-1.1.3-py3-none-any.whl (44 kB)\n",
            "\u001b[2K     \u001b[90m━━━━━━━━━━━━━━━━━━━━━━━━━━━━━━━━━━━━━━━━\u001b[0m \u001b[32m44.0/44.0 kB\u001b[0m \u001b[31m2.7 MB/s\u001b[0m eta \u001b[36m0:00:00\u001b[0m\n",
            "\u001b[?25hCollecting pmdarima>=2.0.4 (from pycaret)\n",
            "  Downloading pmdarima-2.0.4-cp310-cp310-manylinux_2_17_x86_64.manylinux2014_x86_64.manylinux_2_28_x86_64.whl (2.1 MB)\n",
            "\u001b[2K     \u001b[90m━━━━━━━━━━━━━━━━━━━━━━━━━━━━━━━━━━━━━━━━\u001b[0m \u001b[32m2.1/2.1 MB\u001b[0m \u001b[31m23.6 MB/s\u001b[0m eta \u001b[36m0:00:00\u001b[0m\n",
            "\u001b[?25hCollecting wurlitzer (from pycaret)\n",
            "  Downloading wurlitzer-3.0.3-py3-none-any.whl (7.3 kB)\n",
            "Requirement already satisfied: patsy>=0.5.1 in /usr/local/lib/python3.10/dist-packages (from category-encoders>=2.4.0->pycaret) (0.5.6)\n",
            "Requirement already satisfied: packaging in /usr/local/lib/python3.10/dist-packages (from deprecation>=2.1.0->pycaret) (24.0)\n",
            "Requirement already satisfied: threadpoolctl>=2.0.0 in /usr/local/lib/python3.10/dist-packages (from imbalanced-learn>=0.12.0->pycaret) (3.4.0)\n",
            "Requirement already satisfied: zipp>=0.5 in /usr/local/lib/python3.10/dist-packages (from importlib-metadata>=4.12.0->pycaret) (3.18.1)\n",
            "Requirement already satisfied: setuptools>=18.5 in /usr/local/lib/python3.10/dist-packages (from ipython>=5.5.0->pycaret) (67.7.2)\n",
            "Collecting jedi>=0.16 (from ipython>=5.5.0->pycaret)\n",
            "  Downloading jedi-0.19.1-py2.py3-none-any.whl (1.6 MB)\n",
            "\u001b[2K     \u001b[90m━━━━━━━━━━━━━━━━━━━━━━━━━━━━━━━━━━━━━━━━\u001b[0m \u001b[32m1.6/1.6 MB\u001b[0m \u001b[31m40.4 MB/s\u001b[0m eta \u001b[36m0:00:00\u001b[0m\n",
            "\u001b[?25hRequirement already satisfied: decorator in /usr/local/lib/python3.10/dist-packages (from ipython>=5.5.0->pycaret) (4.4.2)\n",
            "Requirement already satisfied: pickleshare in /usr/local/lib/python3.10/dist-packages (from ipython>=5.5.0->pycaret) (0.7.5)\n",
            "Requirement already satisfied: traitlets>=4.2 in /usr/local/lib/python3.10/dist-packages (from ipython>=5.5.0->pycaret) (5.7.1)\n",
            "Requirement already satisfied: prompt-toolkit!=3.0.0,!=3.0.1,<3.1.0,>=2.0.0 in /usr/local/lib/python3.10/dist-packages (from ipython>=5.5.0->pycaret) (3.0.43)\n",
            "Requirement already satisfied: pygments in /usr/local/lib/python3.10/dist-packages (from ipython>=5.5.0->pycaret) (2.16.1)\n",
            "Requirement already satisfied: backcall in /usr/local/lib/python3.10/dist-packages (from ipython>=5.5.0->pycaret) (0.2.0)\n",
            "Requirement already satisfied: matplotlib-inline in /usr/local/lib/python3.10/dist-packages (from ipython>=5.5.0->pycaret) (0.1.6)\n",
            "Requirement already satisfied: pexpect>4.3 in /usr/local/lib/python3.10/dist-packages (from ipython>=5.5.0->pycaret) (4.9.0)\n",
            "Requirement already satisfied: ipykernel>=4.5.1 in /usr/local/lib/python3.10/dist-packages (from ipywidgets>=7.6.5->pycaret) (5.5.6)\n",
            "Requirement already satisfied: ipython-genutils~=0.2.0 in /usr/local/lib/python3.10/dist-packages (from ipywidgets>=7.6.5->pycaret) (0.2.0)\n",
            "Requirement already satisfied: widgetsnbextension~=3.6.0 in /usr/local/lib/python3.10/dist-packages (from ipywidgets>=7.6.5->pycaret) (3.6.6)\n",
            "Requirement already satisfied: jupyterlab-widgets>=1.0.0 in /usr/local/lib/python3.10/dist-packages (from ipywidgets>=7.6.5->pycaret) (3.0.10)\n",
            "Requirement already satisfied: contourpy>=1.0.1 in /usr/local/lib/python3.10/dist-packages (from matplotlib<3.8.0->pycaret) (1.2.0)\n",
            "Requirement already satisfied: cycler>=0.10 in /usr/local/lib/python3.10/dist-packages (from matplotlib<3.8.0->pycaret) (0.12.1)\n",
            "Requirement already satisfied: fonttools>=4.22.0 in /usr/local/lib/python3.10/dist-packages (from matplotlib<3.8.0->pycaret) (4.50.0)\n",
            "Requirement already satisfied: kiwisolver>=1.0.1 in /usr/local/lib/python3.10/dist-packages (from matplotlib<3.8.0->pycaret) (1.4.5)\n",
            "Requirement already satisfied: pillow>=6.2.0 in /usr/local/lib/python3.10/dist-packages (from matplotlib<3.8.0->pycaret) (9.4.0)\n",
            "Requirement already satisfied: pyparsing>=2.3.1 in /usr/local/lib/python3.10/dist-packages (from matplotlib<3.8.0->pycaret) (3.1.2)\n",
            "Requirement already satisfied: python-dateutil>=2.7 in /usr/local/lib/python3.10/dist-packages (from matplotlib<3.8.0->pycaret) (2.8.2)\n",
            "Requirement already satisfied: fastjsonschema in /usr/local/lib/python3.10/dist-packages (from nbformat>=4.2.0->pycaret) (2.19.1)\n",
            "Requirement already satisfied: jsonschema>=2.6 in /usr/local/lib/python3.10/dist-packages (from nbformat>=4.2.0->pycaret) (4.19.2)\n",
            "Requirement already satisfied: jupyter-core in /usr/local/lib/python3.10/dist-packages (from nbformat>=4.2.0->pycaret) (5.7.2)\n",
            "Requirement already satisfied: llvmlite<0.42,>=0.41.0dev0 in /usr/local/lib/python3.10/dist-packages (from numba>=0.55.0->pycaret) (0.41.1)\n",
            "Requirement already satisfied: pytz>=2020.1 in /usr/local/lib/python3.10/dist-packages (from pandas<2.2.0->pycaret) (2023.4)\n",
            "Requirement already satisfied: tzdata>=2022.1 in /usr/local/lib/python3.10/dist-packages (from pandas<2.2.0->pycaret) (2024.1)\n",
            "Requirement already satisfied: tenacity>=6.2.0 in /usr/local/lib/python3.10/dist-packages (from plotly>=5.14.0->pycaret) (8.2.3)\n",
            "Collecting dash>=2.9.0 (from plotly-resampler>=0.8.3.1->pycaret)\n",
            "  Downloading dash-2.16.1-py3-none-any.whl (10.2 MB)\n",
            "\u001b[2K     \u001b[90m━━━━━━━━━━━━━━━━━━━━━━━━━━━━━━━━━━━━━━━━\u001b[0m \u001b[32m10.2/10.2 MB\u001b[0m \u001b[31m49.0 MB/s\u001b[0m eta \u001b[36m0:00:00\u001b[0m\n",
            "\u001b[?25hCollecting orjson<4.0.0,>=3.8.0 (from plotly-resampler>=0.8.3.1->pycaret)\n",
            "  Downloading orjson-3.10.0-cp310-cp310-manylinux_2_17_x86_64.manylinux2014_x86_64.whl (144 kB)\n",
            "\u001b[2K     \u001b[90m━━━━━━━━━━━━━━━━━━━━━━━━━━━━━━━━━━━━━━━━\u001b[0m \u001b[32m144.8/144.8 kB\u001b[0m \u001b[31m2.7 MB/s\u001b[0m eta \u001b[36m0:00:00\u001b[0m\n",
            "\u001b[?25hCollecting tsdownsample>=0.1.3 (from plotly-resampler>=0.8.3.1->pycaret)\n",
            "  Downloading tsdownsample-0.1.3-cp310-cp310-manylinux_2_17_x86_64.manylinux2014_x86_64.whl (2.1 MB)\n",
            "\u001b[2K     \u001b[90m━━━━━━━━━━━━━━━━━━━━━━━━━━━━━━━━━━━━━━━━\u001b[0m \u001b[32m2.1/2.1 MB\u001b[0m \u001b[31m31.2 MB/s\u001b[0m eta \u001b[36m0:00:00\u001b[0m\n",
            "\u001b[?25hRequirement already satisfied: Cython!=0.29.18,!=0.29.31,>=0.29 in /usr/local/lib/python3.10/dist-packages (from pmdarima>=2.0.4->pycaret) (3.0.10)\n",
            "Requirement already satisfied: urllib3 in /usr/local/lib/python3.10/dist-packages (from pmdarima>=2.0.4->pycaret) (2.0.7)\n",
            "Requirement already satisfied: six in /usr/local/lib/python3.10/dist-packages (from pyod>=1.1.3->pycaret) (1.16.0)\n",
            "Requirement already satisfied: charset-normalizer<4,>=2 in /usr/local/lib/python3.10/dist-packages (from requests>=2.27.1->pycaret) (3.3.2)\n",
            "Requirement already satisfied: idna<4,>=2.5 in /usr/local/lib/python3.10/dist-packages (from requests>=2.27.1->pycaret) (3.6)\n",
            "Requirement already satisfied: certifi>=2017.4.17 in /usr/local/lib/python3.10/dist-packages (from requests>=2.27.1->pycaret) (2024.2.2)\n",
            "Collecting scikit-base<0.8.0 (from sktime>=0.26.0->pycaret)\n",
            "  Downloading scikit_base-0.7.5-py3-none-any.whl (128 kB)\n",
            "\u001b[2K     \u001b[90m━━━━━━━━━━━━━━━━━━━━━━━━━━━━━━━━━━━━━━━━\u001b[0m \u001b[32m128.8/128.8 kB\u001b[0m \u001b[31m6.2 MB/s\u001b[0m eta \u001b[36m0:00:00\u001b[0m\n",
            "\u001b[?25hRequirement already satisfied: Flask<3.1,>=1.0.4 in /usr/local/lib/python3.10/dist-packages (from dash>=2.9.0->plotly-resampler>=0.8.3.1->pycaret) (2.2.5)\n",
            "Requirement already satisfied: Werkzeug<3.1 in /usr/local/lib/python3.10/dist-packages (from dash>=2.9.0->plotly-resampler>=0.8.3.1->pycaret) (3.0.2)\n",
            "Collecting dash-html-components==2.0.0 (from dash>=2.9.0->plotly-resampler>=0.8.3.1->pycaret)\n",
            "  Downloading dash_html_components-2.0.0-py3-none-any.whl (4.1 kB)\n",
            "Collecting dash-core-components==2.0.0 (from dash>=2.9.0->plotly-resampler>=0.8.3.1->pycaret)\n",
            "  Downloading dash_core_components-2.0.0-py3-none-any.whl (3.8 kB)\n",
            "Collecting dash-table==5.0.0 (from dash>=2.9.0->plotly-resampler>=0.8.3.1->pycaret)\n",
            "  Downloading dash_table-5.0.0-py3-none-any.whl (3.9 kB)\n",
            "Requirement already satisfied: typing-extensions>=4.1.1 in /usr/local/lib/python3.10/dist-packages (from dash>=2.9.0->plotly-resampler>=0.8.3.1->pycaret) (4.10.0)\n",
            "Collecting retrying (from dash>=2.9.0->plotly-resampler>=0.8.3.1->pycaret)\n",
            "  Downloading retrying-1.3.4-py3-none-any.whl (11 kB)\n",
            "Requirement already satisfied: nest-asyncio in /usr/local/lib/python3.10/dist-packages (from dash>=2.9.0->plotly-resampler>=0.8.3.1->pycaret) (1.6.0)\n",
            "Requirement already satisfied: jupyter-client in /usr/local/lib/python3.10/dist-packages (from ipykernel>=4.5.1->ipywidgets>=7.6.5->pycaret) (6.1.12)\n",
            "Requirement already satisfied: tornado>=4.2 in /usr/local/lib/python3.10/dist-packages (from ipykernel>=4.5.1->ipywidgets>=7.6.5->pycaret) (6.3.3)\n",
            "Requirement already satisfied: parso<0.9.0,>=0.8.3 in /usr/local/lib/python3.10/dist-packages (from jedi>=0.16->ipython>=5.5.0->pycaret) (0.8.3)\n",
            "Requirement already satisfied: attrs>=22.2.0 in /usr/local/lib/python3.10/dist-packages (from jsonschema>=2.6->nbformat>=4.2.0->pycaret) (23.2.0)\n",
            "Requirement already satisfied: jsonschema-specifications>=2023.03.6 in /usr/local/lib/python3.10/dist-packages (from jsonschema>=2.6->nbformat>=4.2.0->pycaret) (2023.12.1)\n",
            "Requirement already satisfied: referencing>=0.28.4 in /usr/local/lib/python3.10/dist-packages (from jsonschema>=2.6->nbformat>=4.2.0->pycaret) (0.34.0)\n",
            "Requirement already satisfied: rpds-py>=0.7.1 in /usr/local/lib/python3.10/dist-packages (from jsonschema>=2.6->nbformat>=4.2.0->pycaret) (0.18.0)\n",
            "Requirement already satisfied: ptyprocess>=0.5 in /usr/local/lib/python3.10/dist-packages (from pexpect>4.3->ipython>=5.5.0->pycaret) (0.7.0)\n",
            "Requirement already satisfied: wcwidth in /usr/local/lib/python3.10/dist-packages (from prompt-toolkit!=3.0.0,!=3.0.1,<3.1.0,>=2.0.0->ipython>=5.5.0->pycaret) (0.2.13)\n",
            "Requirement already satisfied: notebook>=4.4.1 in /usr/local/lib/python3.10/dist-packages (from widgetsnbextension~=3.6.0->ipywidgets>=7.6.5->pycaret) (6.5.5)\n",
            "Requirement already satisfied: platformdirs>=2.5 in /usr/local/lib/python3.10/dist-packages (from jupyter-core->nbformat>=4.2.0->pycaret) (4.2.0)\n",
            "Requirement already satisfied: itsdangerous>=2.0 in /usr/local/lib/python3.10/dist-packages (from Flask<3.1,>=1.0.4->dash>=2.9.0->plotly-resampler>=0.8.3.1->pycaret) (2.1.2)\n",
            "Requirement already satisfied: click>=8.0 in /usr/local/lib/python3.10/dist-packages (from Flask<3.1,>=1.0.4->dash>=2.9.0->plotly-resampler>=0.8.3.1->pycaret) (8.1.7)\n",
            "Requirement already satisfied: pyzmq<25,>=17 in /usr/local/lib/python3.10/dist-packages (from notebook>=4.4.1->widgetsnbextension~=3.6.0->ipywidgets>=7.6.5->pycaret) (23.2.1)\n",
            "Requirement already satisfied: argon2-cffi in /usr/local/lib/python3.10/dist-packages (from notebook>=4.4.1->widgetsnbextension~=3.6.0->ipywidgets>=7.6.5->pycaret) (23.1.0)\n",
            "Requirement already satisfied: nbconvert>=5 in /usr/local/lib/python3.10/dist-packages (from notebook>=4.4.1->widgetsnbextension~=3.6.0->ipywidgets>=7.6.5->pycaret) (6.5.4)\n",
            "Requirement already satisfied: Send2Trash>=1.8.0 in /usr/local/lib/python3.10/dist-packages (from notebook>=4.4.1->widgetsnbextension~=3.6.0->ipywidgets>=7.6.5->pycaret) (1.8.2)\n",
            "Requirement already satisfied: terminado>=0.8.3 in /usr/local/lib/python3.10/dist-packages (from notebook>=4.4.1->widgetsnbextension~=3.6.0->ipywidgets>=7.6.5->pycaret) (0.18.1)\n",
            "Requirement already satisfied: prometheus-client in /usr/local/lib/python3.10/dist-packages (from notebook>=4.4.1->widgetsnbextension~=3.6.0->ipywidgets>=7.6.5->pycaret) (0.20.0)\n",
            "Requirement already satisfied: nbclassic>=0.4.7 in /usr/local/lib/python3.10/dist-packages (from notebook>=4.4.1->widgetsnbextension~=3.6.0->ipywidgets>=7.6.5->pycaret) (1.0.0)\n",
            "Requirement already satisfied: jupyter-server>=1.8 in /usr/local/lib/python3.10/dist-packages (from nbclassic>=0.4.7->notebook>=4.4.1->widgetsnbextension~=3.6.0->ipywidgets>=7.6.5->pycaret) (1.24.0)\n",
            "Requirement already satisfied: notebook-shim>=0.2.3 in /usr/local/lib/python3.10/dist-packages (from nbclassic>=0.4.7->notebook>=4.4.1->widgetsnbextension~=3.6.0->ipywidgets>=7.6.5->pycaret) (0.2.4)\n",
            "Requirement already satisfied: lxml in /usr/local/lib/python3.10/dist-packages (from nbconvert>=5->notebook>=4.4.1->widgetsnbextension~=3.6.0->ipywidgets>=7.6.5->pycaret) (4.9.4)\n",
            "Requirement already satisfied: beautifulsoup4 in /usr/local/lib/python3.10/dist-packages (from nbconvert>=5->notebook>=4.4.1->widgetsnbextension~=3.6.0->ipywidgets>=7.6.5->pycaret) (4.12.3)\n",
            "Requirement already satisfied: bleach in /usr/local/lib/python3.10/dist-packages (from nbconvert>=5->notebook>=4.4.1->widgetsnbextension~=3.6.0->ipywidgets>=7.6.5->pycaret) (6.1.0)\n",
            "Requirement already satisfied: defusedxml in /usr/local/lib/python3.10/dist-packages (from nbconvert>=5->notebook>=4.4.1->widgetsnbextension~=3.6.0->ipywidgets>=7.6.5->pycaret) (0.7.1)\n",
            "Requirement already satisfied: entrypoints>=0.2.2 in /usr/local/lib/python3.10/dist-packages (from nbconvert>=5->notebook>=4.4.1->widgetsnbextension~=3.6.0->ipywidgets>=7.6.5->pycaret) (0.4)\n",
            "Requirement already satisfied: jupyterlab-pygments in /usr/local/lib/python3.10/dist-packages (from nbconvert>=5->notebook>=4.4.1->widgetsnbextension~=3.6.0->ipywidgets>=7.6.5->pycaret) (0.3.0)\n",
            "Requirement already satisfied: mistune<2,>=0.8.1 in /usr/local/lib/python3.10/dist-packages (from nbconvert>=5->notebook>=4.4.1->widgetsnbextension~=3.6.0->ipywidgets>=7.6.5->pycaret) (0.8.4)\n",
            "Requirement already satisfied: nbclient>=0.5.0 in /usr/local/lib/python3.10/dist-packages (from nbconvert>=5->notebook>=4.4.1->widgetsnbextension~=3.6.0->ipywidgets>=7.6.5->pycaret) (0.10.0)\n",
            "Requirement already satisfied: pandocfilters>=1.4.1 in /usr/local/lib/python3.10/dist-packages (from nbconvert>=5->notebook>=4.4.1->widgetsnbextension~=3.6.0->ipywidgets>=7.6.5->pycaret) (1.5.1)\n",
            "Requirement already satisfied: tinycss2 in /usr/local/lib/python3.10/dist-packages (from nbconvert>=5->notebook>=4.4.1->widgetsnbextension~=3.6.0->ipywidgets>=7.6.5->pycaret) (1.2.1)\n",
            "Requirement already satisfied: argon2-cffi-bindings in /usr/local/lib/python3.10/dist-packages (from argon2-cffi->notebook>=4.4.1->widgetsnbextension~=3.6.0->ipywidgets>=7.6.5->pycaret) (21.2.0)\n",
            "Requirement already satisfied: anyio<4,>=3.1.0 in /usr/local/lib/python3.10/dist-packages (from jupyter-server>=1.8->nbclassic>=0.4.7->notebook>=4.4.1->widgetsnbextension~=3.6.0->ipywidgets>=7.6.5->pycaret) (3.7.1)\n",
            "Requirement already satisfied: websocket-client in /usr/local/lib/python3.10/dist-packages (from jupyter-server>=1.8->nbclassic>=0.4.7->notebook>=4.4.1->widgetsnbextension~=3.6.0->ipywidgets>=7.6.5->pycaret) (1.7.0)\n",
            "Requirement already satisfied: cffi>=1.0.1 in /usr/local/lib/python3.10/dist-packages (from argon2-cffi-bindings->argon2-cffi->notebook>=4.4.1->widgetsnbextension~=3.6.0->ipywidgets>=7.6.5->pycaret) (1.16.0)\n",
            "Requirement already satisfied: soupsieve>1.2 in /usr/local/lib/python3.10/dist-packages (from beautifulsoup4->nbconvert>=5->notebook>=4.4.1->widgetsnbextension~=3.6.0->ipywidgets>=7.6.5->pycaret) (2.5)\n",
            "Requirement already satisfied: webencodings in /usr/local/lib/python3.10/dist-packages (from bleach->nbconvert>=5->notebook>=4.4.1->widgetsnbextension~=3.6.0->ipywidgets>=7.6.5->pycaret) (0.5.1)\n",
            "Requirement already satisfied: sniffio>=1.1 in /usr/local/lib/python3.10/dist-packages (from anyio<4,>=3.1.0->jupyter-server>=1.8->nbclassic>=0.4.7->notebook>=4.4.1->widgetsnbextension~=3.6.0->ipywidgets>=7.6.5->pycaret) (1.3.1)\n",
            "Requirement already satisfied: exceptiongroup in /usr/local/lib/python3.10/dist-packages (from anyio<4,>=3.1.0->jupyter-server>=1.8->nbclassic>=0.4.7->notebook>=4.4.1->widgetsnbextension~=3.6.0->ipywidgets>=7.6.5->pycaret) (1.2.0)\n",
            "Requirement already satisfied: pycparser in /usr/local/lib/python3.10/dist-packages (from cffi>=1.0.1->argon2-cffi-bindings->argon2-cffi->notebook>=4.4.1->widgetsnbextension~=3.6.0->ipywidgets>=7.6.5->pycaret) (2.22)\n",
            "Building wheels for collected packages: pyod\n",
            "  Building wheel for pyod (setup.py) ... \u001b[?25l\u001b[?25hdone\n",
            "  Created wheel for pyod: filename=pyod-1.1.3-py3-none-any.whl size=190250 sha256=430d9179fc90433cdfb3170cd0db4efdb85e182ee8b40419a7c8aadf9289f2a1\n",
            "  Stored in directory: /root/.cache/pip/wheels/05/f8/db/124d43bec122d6ec0ab3713fadfe25ebed8af52ec561682b4e\n",
            "Successfully built pyod\n",
            "Installing collected packages: kaleido, dash-table, dash-html-components, dash-core-components, xxhash, wurlitzer, tsdownsample, scikit-base, schemdraw, retrying, orjson, jedi, deprecation, scikit-learn, sktime, scikit-plot, pyod, imbalanced-learn, dash, pmdarima, plotly-resampler, category-encoders, tbats, pycaret\n",
            "  Attempting uninstall: scikit-learn\n",
            "    Found existing installation: scikit-learn 1.2.2\n",
            "    Uninstalling scikit-learn-1.2.2:\n",
            "      Successfully uninstalled scikit-learn-1.2.2\n",
            "  Attempting uninstall: imbalanced-learn\n",
            "    Found existing installation: imbalanced-learn 0.10.1\n",
            "    Uninstalling imbalanced-learn-0.10.1:\n",
            "      Successfully uninstalled imbalanced-learn-0.10.1\n",
            "Successfully installed category-encoders-2.6.3 dash-2.16.1 dash-core-components-2.0.0 dash-html-components-2.0.0 dash-table-5.0.0 deprecation-2.1.0 imbalanced-learn-0.12.2 jedi-0.19.1 kaleido-0.2.1 orjson-3.10.0 plotly-resampler-0.10.0 pmdarima-2.0.4 pycaret-3.3.0 pyod-1.1.3 retrying-1.3.4 schemdraw-0.15 scikit-base-0.7.5 scikit-learn-1.4.1.post1 scikit-plot-0.3.7 sktime-0.28.0 tbats-1.1.3 tsdownsample-0.1.3 wurlitzer-3.0.3 xxhash-3.4.1\n"
          ]
        }
      ]
    },
    {
      "cell_type": "code",
      "metadata": {
        "id": "7LfnpwSS9nue"
      },
      "source": [
        "#εισαγωγή βιβλιοθηκών - πακέτων\n",
        "import pycaret\n",
        "import pandas as pd\n",
        "import numpy as np\n",
        "import matplotlib.pyplot as plt\n",
        "from pycaret.classification import *"
      ],
      "execution_count": 2,
      "outputs": []
    },
    {
      "cell_type": "code",
      "metadata": {
        "colab": {
          "base_uri": "https://localhost:8080/"
        },
        "id": "ZunbzPVa9a6g",
        "outputId": "4bde2473-3d24-4b0e-d0fa-634748428a00"
      },
      "source": [
        "#εισαγωγή του συνόλου δεδομένων\n",
        "url = 'https://raw.githubusercontent.com/kdemertzis/EKPA/main/Data/dga_domain.csv'\n",
        "df = pd.read_csv(url)\n",
        "#έλεγχος σχήματος συνόλου δεδομένων\n",
        "print(df.shape)"
      ],
      "execution_count": 3,
      "outputs": [
        {
          "output_type": "stream",
          "name": "stdout",
          "text": [
            "(117588, 6)\n"
          ]
        }
      ]
    },
    {
      "cell_type": "code",
      "source": [
        "#ανακάτεμα των δεδομένων\n",
        "df = df.sample(frac = 1)\n",
        "print(df.head())"
      ],
      "metadata": {
        "id": "DCynJDtpYx8z",
        "outputId": "33492c55-c507-4865-f773-c14e2c768af3",
        "colab": {
          "base_uri": "https://localhost:8080/"
        }
      },
      "execution_count": 4,
      "outputs": [
        {
          "output_type": "stream",
          "name": "stdout",
          "text": [
            "       length   entropy   alexa_grams   word_grams       diff  class\n",
            "46888       7  2.521641     18.159688    25.446132  -7.286444  legit\n",
            "87861      11  2.913977     34.154282    45.446398 -11.292116  legit\n",
            "96223       6  2.584963     11.552689    16.117887  -4.565198    dga\n",
            "58971       6  2.584963      7.038819     6.525693   0.513126  legit\n",
            "53476      14  3.235926     53.413060    75.139750 -21.726690  legit\n"
          ]
        }
      ]
    },
    {
      "cell_type": "code",
      "metadata": {
        "id": "J6y3Zhq2-EZ8"
      },
      "source": [
        "#εγκατάσταση του συνόλου δεδομένων\n",
        "grid = setup(data=df, target=df.columns[-1], html=False, verbose=False)"
      ],
      "execution_count": 5,
      "outputs": []
    },
    {
      "cell_type": "code",
      "metadata": {
        "colab": {
          "base_uri": "https://localhost:8080/"
        },
        "id": "ZGJ7kigzA1Rf",
        "outputId": "cb521d1a-1984-40ab-bda0-c0f5a38d7f7b"
      },
      "source": [
        "#σύγκριση των διαθέσιμων μοντέλων ΜΜ\n",
        "best = compare_models(cross_validation=False, n_select = 1)\n",
        "%load_ext tensorboard"
      ],
      "execution_count": 6,
      "outputs": [
        {
          "output_type": "stream",
          "name": "stderr",
          "text": [
            "                                                           "
          ]
        },
        {
          "output_type": "stream",
          "name": "stdout",
          "text": [
            "                                    Model  Accuracy     AUC  Recall   Prec.  \\\n",
            "gbc          Gradient Boosting Classifier    0.8871  0.9058  0.8871  0.8883   \n",
            "lightgbm  Light Gradient Boosting Machine    0.8866  0.9087  0.8866  0.8880   \n",
            "xgboost         Extreme Gradient Boosting    0.8863  0.9071  0.8863  0.8864   \n",
            "rf               Random Forest Classifier    0.8801  0.8931  0.8801  0.8763   \n",
            "knn                K Neighbors Classifier    0.8734  0.8657  0.8734  0.8686   \n",
            "lr                    Logistic Regression    0.8730  0.8730  0.8730  0.8709   \n",
            "et                 Extra Trees Classifier    0.8703  0.8843  0.8703  0.8647   \n",
            "qda       Quadratic Discriminant Analysis    0.8664  0.8739  0.8664  0.8701   \n",
            "svm                   SVM - Linear Kernel    0.8649  0.0000  0.8649  0.8729   \n",
            "lda          Linear Discriminant Analysis    0.8482  0.8563  0.8482  0.8529   \n",
            "ridge                    Ridge Classifier    0.8311  0.0000  0.8311  0.8536   \n",
            "dt               Decision Tree Classifier    0.8287  0.7874  0.8287  0.8292   \n",
            "ada                  Ada Boost Classifier    0.7667  0.5756  0.7667  0.6386   \n",
            "nb                            Naive Bayes    0.7654  0.7723  0.7654  0.7382   \n",
            "dummy                    Dummy Classifier    0.7342  0.0000  0.7342  0.5391   \n",
            "\n",
            "              F1   Kappa     MCC  TT (Sec)  \n",
            "gbc       0.8774  0.6920  0.7115     68.26  \n",
            "lightgbm  0.8770  0.6905  0.7099      1.59  \n",
            "xgboost   0.8774  0.6917  0.7087      3.07  \n",
            "rf        0.8729  0.6815  0.6917     25.35  \n",
            "knn       0.8661  0.6644  0.6739      0.14  \n",
            "lr        0.8638  0.6567  0.6718      5.83  \n",
            "et        0.8644  0.6611  0.6672      6.84  \n",
            "qda       0.8560  0.6430  0.6589      0.12  \n",
            "svm       0.8485  0.6162  0.6519      6.79  \n",
            "lda       0.8351  0.5718  0.5991      0.15  \n",
            "ridge     0.7970  0.4729  0.5410      0.10  \n",
            "dt        0.8289  0.5806  0.5806      1.00  \n",
            "ada       0.6732  0.2201  0.3326      5.61  \n",
            "nb        0.7428  0.3650  0.3760      0.07  \n",
            "dummy     0.6217  0.0000  0.0000      0.06  \n"
          ]
        },
        {
          "output_type": "stream",
          "name": "stderr",
          "text": [
            "\r"
          ]
        }
      ]
    },
    {
      "cell_type": "code",
      "metadata": {
        "colab": {
          "base_uri": "https://localhost:8080/"
        },
        "id": "TorFLtNx-kCm",
        "outputId": "e96d7e7e-9270-4643-bfcd-c3ae1e3be35e"
      },
      "source": [
        "#αναφορά των υπερπαραμέτρων του μοντέλου με την υψηλότερη απόδοση\n",
        "print(best)"
      ],
      "execution_count": 7,
      "outputs": [
        {
          "output_type": "stream",
          "name": "stdout",
          "text": [
            "GradientBoostingClassifier(ccp_alpha=0.0, criterion='friedman_mse', init=None,\n",
            "                           learning_rate=0.1, loss='log_loss', max_depth=3,\n",
            "                           max_features=None, max_leaf_nodes=None,\n",
            "                           min_impurity_decrease=0.0, min_samples_leaf=1,\n",
            "                           min_samples_split=2, min_weight_fraction_leaf=0.0,\n",
            "                           n_estimators=100, n_iter_no_change=None,\n",
            "                           random_state=6146, subsample=1.0, tol=0.0001,\n",
            "                           validation_fraction=0.1, verbose=0,\n",
            "                           warm_start=False)\n"
          ]
        }
      ]
    },
    {
      "cell_type": "code",
      "metadata": {
        "id": "XJTnGY38yxrE",
        "outputId": "0b21f9b3-a355-4a41-b277-84e33bd8780d",
        "colab": {
          "base_uri": "https://localhost:8080/",
          "height": 192,
          "referenced_widgets": [
            "76a7f2d28ea146e5b9348d0fd3c7444e",
            "470c5a23283e4128aa14adb6152d7cf1",
            "d74cf4bb8cf74a75985cf7a8296919c2",
            "6016003aa05e40c6b8e54fd23348aff7",
            "25b11b1f50fe4bf5b37cd2e5008b2d93",
            "925a1c1409584676825bf016b4d194bb",
            "e6a4109c1dd246bdbbf4f4f1c3616147"
          ]
        }
      },
      "source": [
        "#μέτρα αξιολόγησης του μοντέλου με την υψηλότερη απόδοση\n",
        "evaluate_model(best)"
      ],
      "execution_count": 8,
      "outputs": [
        {
          "output_type": "display_data",
          "data": {
            "text/plain": [
              "interactive(children=(ToggleButtons(description='Plot Type:', icons=('',), options=(('Pipeline Plot', 'pipelin…"
            ],
            "application/vnd.jupyter.widget-view+json": {
              "version_major": 2,
              "version_minor": 0,
              "model_id": "76a7f2d28ea146e5b9348d0fd3c7444e"
            }
          },
          "metadata": {
            "application/vnd.jupyter.widget-view+json": {
              "colab": {
                "custom_widget_manager": {
                  "url": "https://ssl.gstatic.com/colaboratory-static/widgets/colab-cdn-widget-manager/2b70e893a8ba7c0f/manager.min.js"
                }
              }
            }
          }
        }
      ]
    }
  ]
}